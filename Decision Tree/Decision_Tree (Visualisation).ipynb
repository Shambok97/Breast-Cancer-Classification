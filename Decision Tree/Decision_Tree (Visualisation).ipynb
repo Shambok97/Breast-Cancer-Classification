{
 "cells": [
  {
   "cell_type": "code",
   "execution_count": 1,
   "metadata": {},
   "outputs": [],
   "source": [
    "import numpy \n",
    "import pandas \n",
    "import random \n",
    "import time\n",
    "import matplotlib.pyplot as plt"
   ]
  },
  {
   "cell_type": "code",
   "execution_count": 2,
   "metadata": {},
   "outputs": [],
   "source": [
    "#We are splitting the data set into two parts, 25% for the test and 75% for the training.\n",
    "\n",
    "def TrainTestSplit(dataFrame, testSize):\n",
    "    if isinstance(testSize, float):\n",
    "        testSize = round(testSize * len(dataFrame))\n",
    "    indices = dataFrame.index.tolist()\n",
    "    testIndices = random.sample(population = indices, k = testSize)\n",
    "    dataFrameTest = dataFrame.loc[testIndices]\n",
    "    dataFrameTrain = dataFrame.drop(testIndices)\n",
    "    return dataFrameTrain, dataFrameTest"
   ]
  },
  {
   "cell_type": "code",
   "execution_count": 3,
   "metadata": {},
   "outputs": [],
   "source": [
    "def CheckPurity(data):\n",
    "    if len(numpy.unique(data[:, -1])) == 1:\n",
    "        return True\n",
    "    else:\n",
    "        return False"
   ]
  },
  {
   "cell_type": "code",
   "execution_count": 4,
   "metadata": {},
   "outputs": [],
   "source": [
    "def ClassifyData(data):\n",
    "    uniqueClasses, uniqueClassesCounts = numpy.unique(data[:, -1], return_counts = True)\n",
    "    return uniqueClasses[uniqueClassesCounts.argmax()]"
   ]
  },
  {
   "cell_type": "code",
   "execution_count": 5,
   "metadata": {},
   "outputs": [],
   "source": [
    "#In this section, we are trying to find a way to split tumors into malignant and benign types. \n",
    "# Some features are more important and they have a more severe effect on tumor type.\n",
    "\n",
    "def GetPotentialSplits(data, randomAttributes):\n",
    "    potentialSplits = {}\n",
    "    _, columns = data.shape\n",
    "    columnsIndices = list(range(columns - 1))\n",
    "    if randomAttributes != None  and len(randomAttributes) <= len(columnsIndices):\n",
    "        columnsIndices = randomAttributes\n",
    "    for column in columnsIndices:\n",
    "        values = data[:, column]\n",
    "        uniqueValues = numpy.unique(values)\n",
    "        if len(uniqueValues) == 1:\n",
    "            potentialSplits[column] = uniqueValues\n",
    "        else:\n",
    "            potentialSplits[column] = []\n",
    "            for i in range(len(uniqueValues)):\n",
    "                if i != 0:\n",
    "                    currentValue = uniqueValues[i]\n",
    "                    previousValue = uniqueValues[i - 1]\n",
    "                    potentialSplits[column].append((currentValue + previousValue) / 2)\n",
    "    return potentialSplits"
   ]
  },
  {
   "cell_type": "code",
   "execution_count": 6,
   "metadata": {},
   "outputs": [],
   "source": [
    "def SplitData(data, splitColumn, splitValue):\n",
    "    splitColumnValues = data[:, splitColumn]\n",
    "    return data[splitColumnValues <= splitValue], data[splitColumnValues > splitValue]"
   ]
  },
  {
   "cell_type": "code",
   "execution_count": 7,
   "metadata": {},
   "outputs": [],
   "source": [
    "#In the next couple of sections, we are calculating the Entropy and Overall Entropy. \n",
    "# These are the foundational elements of a decision tree algorithm.\n",
    "\n",
    "def CalculateEntropy(data):\n",
    "    _, uniqueClassesCounts = numpy.unique(data[:, -1], return_counts = True)\n",
    "    probabilities = uniqueClassesCounts / uniqueClassesCounts.sum()\n",
    "    return sum(probabilities * -numpy.log2(probabilities))"
   ]
  },
  {
   "cell_type": "code",
   "execution_count": 8,
   "metadata": {},
   "outputs": [],
   "source": [
    "def CalculateOverallEntropy(dataBelow, dataAbove):\n",
    "    pDataBelow = len(dataBelow) / (len(dataBelow) + len(dataAbove))\n",
    "    pDataAbove = len(dataAbove) / (len(dataBelow) + len(dataAbove))\n",
    "    return pDataBelow * CalculateEntropy(dataBelow) + pDataAbove * CalculateEntropy(dataAbove)"
   ]
  },
  {
   "cell_type": "code",
   "execution_count": 10,
   "metadata": {},
   "outputs": [],
   "source": [
    "# Here we are going to choose the best branches that help us the most to figure out if a tumor is M or B.\n",
    "\n",
    "def DetermineBestSplit(data, potentialSplits, randomSplits = None):\n",
    "    overallEntropy = 9999\n",
    "    bestSplitColumn = 0\n",
    "    bestSplitValue = 0\n",
    "    if randomSplits == None:\n",
    "        for splitColumn in potentialSplits:\n",
    "            for splitValue in potentialSplits[splitColumn]:\n",
    "                dataBelow, dataAbove = SplitData(data, splitColumn, splitValue)\n",
    "                currentOverallEntropy = CalculateOverallEntropy(dataBelow, dataAbove)\n",
    "                if currentOverallEntropy <= overallEntropy:\n",
    "                    overallEntropy = currentOverallEntropy\n",
    "                    bestSplitColumn = splitColumn\n",
    "                    bestSplitValue = splitValue\n",
    "    else:\n",
    "        for i in range(randomSplits):\n",
    "            randomSplitColumn = random.choice(list(potentialSplits))\n",
    "            randomSplitValue = random.choice(potentialSplits[randomSplitColumn])\n",
    "            dataBelow, dataAbove = SplitData(data, randomSplitColumn, randomSplitValue)\n",
    "            currentOverallEntropy = CalculateOverallEntropy(dataBelow, dataAbove)\n",
    "            if currentOverallEntropy <= overallEntropy:\n",
    "                overallEntropy = currentOverallEntropy\n",
    "                bestSplitColumn = randomSplitColumn\n",
    "                bestSplitValue = randomSplitValue\n",
    "    return bestSplitColumn, bestSplitValue"
   ]
  },
  {
   "cell_type": "code",
   "execution_count": 11,
   "metadata": {},
   "outputs": [],
   "source": [
    "def BuildDecisionTree(dataFrame, currentDepth = 0, minSampleSize = 2, maxDepth = 1000, randomAttributes = None, randomSplits = None):\n",
    "    if currentDepth == 0:\n",
    "        global COLUMN_HEADERS\n",
    "        COLUMN_HEADERS = dataFrame.columns\n",
    "        data = dataFrame.values\n",
    "        if randomAttributes != None and randomAttributes <= len(COLUMN_HEADERS) - 1:\n",
    "            randomAttributes = random.sample(population = list(range(len(COLUMN_HEADERS) - 1)), k = randomAttributes)\n",
    "        else:\n",
    "            randomAttributes = None\n",
    "    else:\n",
    "        data = dataFrame\n",
    "    if CheckPurity(data) or len(data) < minSampleSize or currentDepth == maxDepth:\n",
    "        return ClassifyData(data)\n",
    "    else:\n",
    "        currentDepth += 1\n",
    "        potentialSplits = GetPotentialSplits(data, randomAttributes)\n",
    "        splitColumn, splitValue = DetermineBestSplit(data, potentialSplits, randomSplits)\n",
    "        dataBelow, dataAbove = SplitData(data, splitColumn, splitValue)\n",
    "        if len(dataBelow) == 0 or len(dataAbove) == 0:\n",
    "            return ClassifyData(data)\n",
    "        else:\n",
    "            question = str(COLUMN_HEADERS[splitColumn]) + \" <= \" + str(splitValue)\n",
    "            decisionSubTree = {question: []}\n",
    "            yesAnswer = BuildDecisionTree(dataBelow, currentDepth, minSampleSize, maxDepth, randomAttributes, randomSplits)\n",
    "            noAnswer = BuildDecisionTree(dataAbove, currentDepth, minSampleSize, maxDepth, randomAttributes, randomSplits)\n",
    "            if yesAnswer == noAnswer:\n",
    "                decisionSubTree = yesAnswer\n",
    "            else:\n",
    "                decisionSubTree[question].append(yesAnswer)\n",
    "                decisionSubTree[question].append(noAnswer)\n",
    "            return decisionSubTree"
   ]
  },
  {
   "cell_type": "code",
   "execution_count": 12,
   "metadata": {},
   "outputs": [],
   "source": [
    "def ClassifySample(sample, decisionTree):\n",
    "    if not isinstance(decisionTree, dict):\n",
    "        return decisionTree\n",
    "    question = list(decisionTree.keys())[0]\n",
    "    attribute, value = question.split(\" <= \")\n",
    "    if sample[attribute] <= float(value):\n",
    "        answer = decisionTree[question][0]\n",
    "    else:\n",
    "        answer = decisionTree[question][1]\n",
    "    return ClassifySample(sample, answer)"
   ]
  },
  {
   "cell_type": "code",
   "execution_count": 13,
   "metadata": {},
   "outputs": [],
   "source": [
    "def DecisionTreePredictions(dataFrame, decisionTree):\n",
    "    predictions = dataFrame.apply(ClassifySample, axis = 1, args = (decisionTree,))\n",
    "    return predictions"
   ]
  },
  {
   "cell_type": "code",
   "execution_count": 14,
   "metadata": {},
   "outputs": [],
   "source": [
    "def CalculateAccuracy(predictedResults, category):\n",
    "    resultCorrect = predictedResults == category\n",
    "    return resultCorrect.mean()"
   ]
  },
  {
   "cell_type": "code",
   "execution_count": 15,
   "metadata": {},
   "outputs": [
    {
     "name": "stdout",
     "output_type": "stream",
     "text": [
      "Decision Tree - Wisconsin Breast Cancer Dataset\n"
     ]
    }
   ],
   "source": [
    "dataFrame = pandas.read_csv(\"Data.csv\")\n",
    "dataFrame = dataFrame.drop(\"id\", axis = 1)\n",
    "dataFrame = dataFrame[dataFrame.columns.tolist()[1: ] + dataFrame.columns.tolist()[0: 1]]\n",
    "dataFrameTrain, dataFrameTest = TrainTestSplit(dataFrame, testSize = 0.25)\n",
    "\n",
    "print(\"Decision Tree - Wisconsin Breast Cancer Dataset\")"
   ]
  },
  {
   "cell_type": "code",
   "execution_count": 16,
   "metadata": {},
   "outputs": [],
   "source": [
    "depths = []\n",
    "accuracies = []"
   ]
  },
  {
   "cell_type": "code",
   "execution_count": 17,
   "metadata": {},
   "outputs": [
    {
     "name": "stdout",
     "output_type": "stream",
     "text": [
      "maxDepth = 1: accTest = 85.21%, accTrain = 94.15%, buildTime = 1.30s\n",
      "maxDepth = 2: accTest = 90.85%, accTrain = 96.49%, buildTime = 2.09s\n",
      "maxDepth = 3: accTest = 90.85%, accTrain = 97.66%, buildTime = 2.85s\n",
      "maxDepth = 4: accTest = 90.85%, accTrain = 98.13%, buildTime = 2.91s\n",
      "maxDepth = 5: accTest = 91.55%, accTrain = 99.30%, buildTime = 2.99s\n",
      "maxDepth = 6: accTest = 91.55%, accTrain = 99.77%, buildTime = 2.99s\n",
      "maxDepth = 7: accTest = 91.55%, accTrain = 100.00%, buildTime = 3.00s\n"
     ]
    }
   ],
   "source": [
    "i = 1\n",
    "accuracyTrain = 0\n",
    "while accuracyTrain < 100:\n",
    "    startTime = time.time()\n",
    "    decisionTree = BuildDecisionTree(dataFrameTrain, maxDepth = i)\n",
    "    buildingTime = time.time() - startTime\n",
    "    decisionTreeTestResults = DecisionTreePredictions(dataFrameTest, decisionTree)\n",
    "    accuracyTest = CalculateAccuracy(decisionTreeTestResults, dataFrameTest.iloc[:, -1]) * 100\n",
    "    decisionTreeTrainResults = DecisionTreePredictions(dataFrameTrain, decisionTree)\n",
    "    accuracyTrain = CalculateAccuracy(decisionTreeTrainResults, dataFrameTrain.iloc[:, -1]) * 100\n",
    "    print(\"maxDepth = {}: \".format(i), end = \"\")\n",
    "    depths.append(i)\n",
    "    print(\"accTest = {0:.2f}%, \".format(accuracyTest), end = \"\")\n",
    "    accuracies.append(accuracyTest)\n",
    "    print(\"accTrain = {0:.2f}%, \".format(accuracyTrain), end = \"\")\n",
    "    print(\"buildTime = {0:.2f}s\".format(buildingTime), end = \"\\n\")\n",
    "    i += 1"
   ]
  },
  {
   "cell_type": "code",
   "execution_count": 18,
   "metadata": {},
   "outputs": [
    {
     "data": {
      "image/png": "[encoded data removed]",
      "text/plain": [
       "<Figure size 1000x600 with 1 Axes>"
      ]
     },
     "metadata": {},
     "output_type": "display_data"
    }
   ],
   "source": [
    "plt.figure(figsize=(10, 6))\n",
    "plt.plot(depths, accuracies)\n",
    "plt.xlabel('Max Depth --->')\n",
    "plt.ylabel('Test Accuracy  --->')\n",
    "plt.show()"
   ]
  },
  {
   "cell_type": "markdown",
   "metadata": {},
   "source": [
    "The decision tree is a non-parametric supervised learning method used for classification and regression. The goal is to create a model that predicts the value of a target variable by learning simple decision rules inferred from the data features.\n",
    "As observed, max test accuracy occurs when depth is 5.\n",
    "The decision tree iterates itself till it reaches 100% accuracy on the training data. The highest accuracy on the test data happens when the accuracy on the training data is 100%.\n",
    "It predicts if the tumor is B or M type based on the features  the algorithm has learned in the training section.\n",
    "The prediction function is applied to both training and test data."
   ]
  }
 ],
 "metadata": {
  "kernelspec": {
   "display_name": "Python 3.10.4 64-bit",
   "language": "python",
   "name": "python3"
  },
  "language_info": {
   "codemirror_mode": {
    "name": "ipython",
    "version": 3
   },
   "file_extension": ".py",
   "mimetype": "text/x-python",
   "name": "python",
   "nbconvert_exporter": "python",
   "pygments_lexer": "ipython3",
   "version": "3.10.4"
  },
  "vscode": {
   "interpreter": {
    "hash": "aee8b7b246df8f9039afb4144a1f6fd8d2ca17a180786b69acc140d282b71a49"
   }
  }
 },
 "nbformat": 4,
 "nbformat_minor": 4
}
